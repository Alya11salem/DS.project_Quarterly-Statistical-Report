{
  "nbformat": 4,
  "nbformat_minor": 0,
  "metadata": {
    "colab": {
      "name": "Untitled21.ipynb",
      "provenance": []
    },
    "kernelspec": {
      "name": "python3",
      "display_name": "Python 3"
    },
    "language_info": {
      "name": "python"
    }
  },
  "cells": [
    {
      "cell_type": "markdown",
      "metadata": {
        "id": "J1soKYJMmu6N"
      },
      "source": [
        "##  Welcom!!\n",
        "\n"
      ]
    },
    {
      "cell_type": "code",
      "metadata": {
        "colab": {
          "base_uri": "https://localhost:8080/"
        },
        "id": "b98DnLp3m7s7",
        "outputId": "a0d21165-84a6-49b6-c088-71af2b0d7abe"
      },
      "source": [
        "if (brain!= 'fullenergy'):  # code is like humor when you have to explain it it's BAD\n",
        " print (\"orderCoffee\")\n",
        "else:\n",
        " print (\"KeepCoding\")"
      ],
      "execution_count": 92,
      "outputs": [
        {
          "output_type": "stream",
          "name": "stdout",
          "text": [
            "orderCoffee\n"
          ]
        }
      ]
    },
    {
      "cell_type": "markdown",
      "metadata": {
        "id": "iyuCnLOgqpE5"
      },
      "source": [
        "#                           😀\n",
        "\n",
        "\n",
        "\n",
        "\n",
        "\n",
        "\n",
        "\n",
        "\n",
        "\n",
        "\n"
      ]
    },
    {
      "cell_type": "markdown",
      "metadata": {
        "id": "D0pfhsRdwPAB"
      },
      "source": [
        "#               Hi there we will Start  ***EDA***"
      ]
    },
    {
      "cell_type": "code",
      "metadata": {
        "id": "LDy-PEmNrDHA"
      },
      "source": [
        "import numpy as np\n",
        "import pandas as pd\n",
        "import matplotlib.pyplot as plt\n",
        "import seaborn as sns"
      ],
      "execution_count": 93,
      "outputs": []
    },
    {
      "cell_type": "code",
      "metadata": {
        "colab": {
          "base_uri": "https://localhost:8080/",
          "height": 589
        },
        "id": "RNjaySYrtsCf",
        "outputId": "b5277ef8-d5cb-4d62-97ce-f14b7351d528"
      },
      "source": [
        "data_county = pd.read_csv(\"county.csv\")\n",
        "data_county"
      ],
      "execution_count": 94,
      "outputs": [
        {
          "output_type": "execute_result",
          "data": {
            "text/html": [
              "<div>\n",
              "<style scoped>\n",
              "    .dataframe tbody tr th:only-of-type {\n",
              "        vertical-align: middle;\n",
              "    }\n",
              "\n",
              "    .dataframe tbody tr th {\n",
              "        vertical-align: top;\n",
              "    }\n",
              "\n",
              "    .dataframe thead th {\n",
              "        text-align: right;\n",
              "    }\n",
              "</style>\n",
              "<table border=\"1\" class=\"dataframe\">\n",
              "  <thead>\n",
              "    <tr style=\"text-align: right;\">\n",
              "      <th></th>\n",
              "      <th>period</th>\n",
              "      <th>programme</th>\n",
              "      <th>scheme</th>\n",
              "      <th>scheme_description</th>\n",
              "      <th>basis</th>\n",
              "      <th>UGI</th>\n",
              "      <th>county_code</th>\n",
              "      <th>county</th>\n",
              "      <th>recipients</th>\n",
              "    </tr>\n",
              "  </thead>\n",
              "  <tbody>\n",
              "    <tr>\n",
              "      <th>0</th>\n",
              "      <td>2014Q1</td>\n",
              "      <td>Children</td>\n",
              "      <td>CB</td>\n",
              "      <td>Child Benefit</td>\n",
              "      <td>Social Assistance</td>\n",
              "      <td>http://data.geohive.ie/resource/county/2ae1962...</td>\n",
              "      <td>CE</td>\n",
              "      <td>Clare</td>\n",
              "      <td>15958</td>\n",
              "    </tr>\n",
              "    <tr>\n",
              "      <th>1</th>\n",
              "      <td>2014Q1</td>\n",
              "      <td>Children</td>\n",
              "      <td>FIS</td>\n",
              "      <td>Family Income Supplement</td>\n",
              "      <td>Social Assistance</td>\n",
              "      <td>http://data.geohive.ie/resource/county/2ae1962...</td>\n",
              "      <td>CE</td>\n",
              "      <td>Clare</td>\n",
              "      <td>1170</td>\n",
              "    </tr>\n",
              "    <tr>\n",
              "      <th>2</th>\n",
              "      <td>2014Q1</td>\n",
              "      <td>Children</td>\n",
              "      <td>CB</td>\n",
              "      <td>Child Benefit</td>\n",
              "      <td>Social Assistance</td>\n",
              "      <td>http://data.geohive.ie/resource/county/2ae1962...</td>\n",
              "      <td>CK</td>\n",
              "      <td>Cork</td>\n",
              "      <td>69033</td>\n",
              "    </tr>\n",
              "    <tr>\n",
              "      <th>3</th>\n",
              "      <td>2014Q1</td>\n",
              "      <td>Children</td>\n",
              "      <td>FIS</td>\n",
              "      <td>Family Income Supplement</td>\n",
              "      <td>Social Assistance</td>\n",
              "      <td>http://data.geohive.ie/resource/county/2ae1962...</td>\n",
              "      <td>CK</td>\n",
              "      <td>Cork</td>\n",
              "      <td>5089</td>\n",
              "    </tr>\n",
              "    <tr>\n",
              "      <th>4</th>\n",
              "      <td>2014Q1</td>\n",
              "      <td>Children</td>\n",
              "      <td>CB</td>\n",
              "      <td>Child Benefit</td>\n",
              "      <td>Social Assistance</td>\n",
              "      <td>http://data.geohive.ie/resource/county/2ae1962...</td>\n",
              "      <td>CN</td>\n",
              "      <td>Cavan</td>\n",
              "      <td>10349</td>\n",
              "    </tr>\n",
              "    <tr>\n",
              "      <th>...</th>\n",
              "      <td>...</td>\n",
              "      <td>...</td>\n",
              "      <td>...</td>\n",
              "      <td>...</td>\n",
              "      <td>...</td>\n",
              "      <td>...</td>\n",
              "      <td>...</td>\n",
              "      <td>...</td>\n",
              "      <td>...</td>\n",
              "    </tr>\n",
              "    <tr>\n",
              "      <th>16731</th>\n",
              "      <td>2021Q3</td>\n",
              "      <td>Working Age Income Supports</td>\n",
              "      <td>PAT</td>\n",
              "      <td>Paternity Benefit</td>\n",
              "      <td>Social Insurance</td>\n",
              "      <td>unknown</td>\n",
              "      <td>XX</td>\n",
              "      <td>Unknown</td>\n",
              "      <td>44</td>\n",
              "    </tr>\n",
              "    <tr>\n",
              "      <th>16732</th>\n",
              "      <td>2021Q3</td>\n",
              "      <td>Working Age Income Supports</td>\n",
              "      <td>PUP</td>\n",
              "      <td>Pandemic Unemployment Claim</td>\n",
              "      <td>Social Insurance</td>\n",
              "      <td>unknown</td>\n",
              "      <td>XX</td>\n",
              "      <td>Unknown</td>\n",
              "      <td>774</td>\n",
              "    </tr>\n",
              "    <tr>\n",
              "      <th>16733</th>\n",
              "      <td>2021Q3</td>\n",
              "      <td>Working Age Income Supports</td>\n",
              "      <td>UA</td>\n",
              "      <td>Jobseekers Allowance</td>\n",
              "      <td>Social Assistance</td>\n",
              "      <td>unknown</td>\n",
              "      <td>XX</td>\n",
              "      <td>Unknown</td>\n",
              "      <td>229</td>\n",
              "    </tr>\n",
              "    <tr>\n",
              "      <th>16734</th>\n",
              "      <td>2021Q3</td>\n",
              "      <td>Working Age Income Supports</td>\n",
              "      <td>UB</td>\n",
              "      <td>Jobseekers Benefit</td>\n",
              "      <td>Social Insurance</td>\n",
              "      <td>unknown</td>\n",
              "      <td>XX</td>\n",
              "      <td>Unknown</td>\n",
              "      <td>539</td>\n",
              "    </tr>\n",
              "    <tr>\n",
              "      <th>16735</th>\n",
              "      <td>2021Q3</td>\n",
              "      <td>Working Age Income Supports</td>\n",
              "      <td>WNCP</td>\n",
              "      <td>Widows Non Contributory Pension</td>\n",
              "      <td>Social Assistance</td>\n",
              "      <td>unknown</td>\n",
              "      <td>XX</td>\n",
              "      <td>Unknown</td>\n",
              "      <td>1</td>\n",
              "    </tr>\n",
              "  </tbody>\n",
              "</table>\n",
              "<p>16736 rows × 9 columns</p>\n",
              "</div>"
            ],
            "text/plain": [
              "       period                    programme  ...   county recipients\n",
              "0      2014Q1                     Children  ...    Clare      15958\n",
              "1      2014Q1                     Children  ...    Clare       1170\n",
              "2      2014Q1                     Children  ...     Cork      69033\n",
              "3      2014Q1                     Children  ...     Cork       5089\n",
              "4      2014Q1                     Children  ...    Cavan      10349\n",
              "...       ...                          ...  ...      ...        ...\n",
              "16731  2021Q3  Working Age Income Supports  ...  Unknown         44\n",
              "16732  2021Q3  Working Age Income Supports  ...  Unknown        774\n",
              "16733  2021Q3  Working Age Income Supports  ...  Unknown        229\n",
              "16734  2021Q3  Working Age Income Supports  ...  Unknown        539\n",
              "16735  2021Q3  Working Age Income Supports  ...  Unknown          1\n",
              "\n",
              "[16736 rows x 9 columns]"
            ]
          },
          "metadata": {},
          "execution_count": 94
        }
      ]
    },
    {
      "cell_type": "markdown",
      "metadata": {
        "id": "CYARvA3ttbrR"
      },
      "source": [
        "***First of all we cleaning Data ***"
      ]
    },
    {
      "cell_type": "code",
      "metadata": {
        "id": "BWRlxVuYtYAm"
      },
      "source": [
        "data_county.isnull().sum()   ##  I'm lucky one, my data clean "
      ],
      "execution_count": null,
      "outputs": []
    },
    {
      "cell_type": "code",
      "metadata": {
        "id": "olxfTJo4vr2b"
      },
      "source": [
        "sum(data_county.duplicated())  ## clean data"
      ],
      "execution_count": null,
      "outputs": []
    },
    {
      "cell_type": "code",
      "metadata": {
        "id": "nRwxRhIywxiw"
      },
      "source": [
        "data_county.columns        ## here we show columns in Dataset"
      ],
      "execution_count": null,
      "outputs": []
    },
    {
      "cell_type": "code",
      "metadata": {
        "id": "DcldI_ZDxlHe"
      },
      "source": [
        "data_county.head()"
      ],
      "execution_count": null,
      "outputs": []
    },
    {
      "cell_type": "code",
      "metadata": {
        "id": "rQ1UWBRo8kKo"
      },
      "source": [
        "data_county.drop(['UGI'],axis=1,inplace=True) \n"
      ],
      "execution_count": 101,
      "outputs": []
    },
    {
      "cell_type": "code",
      "metadata": {
        "id": "LeeAPgma9lXe"
      },
      "source": [
        "data_county.drop(['basis'],axis=1,inplace=True)"
      ],
      "execution_count": 102,
      "outputs": []
    },
    {
      "cell_type": "code",
      "metadata": {
        "colab": {
          "base_uri": "https://localhost:8080/",
          "height": 204
        },
        "id": "CvbVhPiU9Qau",
        "outputId": "8a5255de-4575-4b99-c8f0-9dd5f451fb8a"
      },
      "source": [
        "data_county.sample(5, random_state=42)"
      ],
      "execution_count": 103,
      "outputs": [
        {
          "output_type": "execute_result",
          "data": {
            "text/html": [
              "<div>\n",
              "<style scoped>\n",
              "    .dataframe tbody tr th:only-of-type {\n",
              "        vertical-align: middle;\n",
              "    }\n",
              "\n",
              "    .dataframe tbody tr th {\n",
              "        vertical-align: top;\n",
              "    }\n",
              "\n",
              "    .dataframe thead th {\n",
              "        text-align: right;\n",
              "    }\n",
              "</style>\n",
              "<table border=\"1\" class=\"dataframe\">\n",
              "  <thead>\n",
              "    <tr style=\"text-align: right;\">\n",
              "      <th></th>\n",
              "      <th>period</th>\n",
              "      <th>programme</th>\n",
              "      <th>scheme</th>\n",
              "      <th>scheme_description</th>\n",
              "      <th>county_code</th>\n",
              "      <th>county</th>\n",
              "      <th>recipients</th>\n",
              "    </tr>\n",
              "  </thead>\n",
              "  <tbody>\n",
              "    <tr>\n",
              "      <th>9598</th>\n",
              "      <td>20183</td>\n",
              "      <td>Pensions</td>\n",
              "      <td>WCP</td>\n",
              "      <td>Widow(er)'s Contributory Pension</td>\n",
              "      <td>WD</td>\n",
              "      <td>Waterford</td>\n",
              "      <td>3144</td>\n",
              "    </tr>\n",
              "    <tr>\n",
              "      <th>13893</th>\n",
              "      <td>20203</td>\n",
              "      <td>Illness,Disability and Caring</td>\n",
              "      <td>CARB</td>\n",
              "      <td>Carers Benefit</td>\n",
              "      <td>KY</td>\n",
              "      <td>Kerry</td>\n",
              "      <td>178</td>\n",
              "    </tr>\n",
              "    <tr>\n",
              "      <th>13700</th>\n",
              "      <td>20202</td>\n",
              "      <td>Working Age Income Supports</td>\n",
              "      <td>UB</td>\n",
              "      <td>Jobseekers Benefit</td>\n",
              "      <td>OY</td>\n",
              "      <td>Offaly</td>\n",
              "      <td>1102</td>\n",
              "    </tr>\n",
              "    <tr>\n",
              "      <th>16309</th>\n",
              "      <td>20213</td>\n",
              "      <td>Illness,Disability and Caring</td>\n",
              "      <td>CARB</td>\n",
              "      <td>Carers Benefit</td>\n",
              "      <td>MO</td>\n",
              "      <td>Mayo</td>\n",
              "      <td>145</td>\n",
              "    </tr>\n",
              "    <tr>\n",
              "      <th>6621</th>\n",
              "      <td>20172</td>\n",
              "      <td>Children</td>\n",
              "      <td>CB</td>\n",
              "      <td>Child Benefit</td>\n",
              "      <td>CN</td>\n",
              "      <td>Cavan</td>\n",
              "      <td>10512</td>\n",
              "    </tr>\n",
              "  </tbody>\n",
              "</table>\n",
              "</div>"
            ],
            "text/plain": [
              "       period                      programme  ...     county recipients\n",
              "9598    20183                       Pensions  ...  Waterford       3144\n",
              "13893   20203  Illness,Disability and Caring  ...      Kerry        178\n",
              "13700   20202    Working Age Income Supports  ...     Offaly       1102\n",
              "16309   20213  Illness,Disability and Caring  ...       Mayo        145\n",
              "6621    20172                       Children  ...      Cavan      10512\n",
              "\n",
              "[5 rows x 7 columns]"
            ]
          },
          "metadata": {},
          "execution_count": 103
        }
      ]
    },
    {
      "cell_type": "markdown",
      "metadata": {
        "id": "a5sL02nrPiYu"
      },
      "source": [
        "________________________________________________________________________________"
      ]
    },
    {
      "cell_type": "markdown",
      "metadata": {
        "id": "jQZY4-5kRrTA"
      },
      "source": [
        " ***We are close to achieving our goals***🥅"
      ]
    },
    {
      "cell_type": "markdown",
      "metadata": {
        "id": "9TB-o_HeSAed"
      },
      "source": [
        "__________________________________________________________________________________"
      ]
    },
    {
      "cell_type": "markdown",
      "metadata": {
        "id": "Lf48BntS0lue"
      },
      "source": [
        "***1. Which county have the largest number of recipients?***"
      ]
    },
    {
      "cell_type": "code",
      "metadata": {
        "colab": {
          "base_uri": "https://localhost:8080/"
        },
        "id": "hEO0W9Zy07Cu",
        "outputId": "17e63e6e-6cbb-48dd-935c-934bbdbcfa22"
      },
      "source": [
        "data_county[['period', 'scheme_description', 'county', 'recipients']].max()   ### max value "
      ],
      "execution_count": 96,
      "outputs": [
        {
          "output_type": "execute_result",
          "data": {
            "text/plain": [
              "period                                2021Q3\n",
              "scheme_description    Working Family Payment\n",
              "county                               Wicklow\n",
              "recipients                            214372\n",
              "dtype: object"
            ]
          },
          "metadata": {},
          "execution_count": 96
        }
      ]
    },
    {
      "cell_type": "code",
      "metadata": {
        "colab": {
          "base_uri": "https://localhost:8080/"
        },
        "id": "sEaHODlp2F8J",
        "outputId": "dab26c35-47eb-4315-8784-fafede47de79"
      },
      "source": [
        "data_county['recipients'].nlargest(5)  "
      ],
      "execution_count": 97,
      "outputs": [
        {
          "output_type": "execute_result",
          "data": {
            "text/plain": [
              "13594    214372\n",
              "15376    175070\n",
              "14376    173207\n",
              "15564    173135\n",
              "13782    172665\n",
              "Name: recipients, dtype: int64"
            ]
          },
          "metadata": {},
          "execution_count": 97
        }
      ]
    },
    {
      "cell_type": "markdown",
      "metadata": {
        "id": "PH1nSukJPooo"
      },
      "source": [
        "_________________________________________________________________________________"
      ]
    },
    {
      "cell_type": "markdown",
      "metadata": {
        "id": "greXuuOL2iII"
      },
      "source": [
        "***2.Is there any relationship between the total number of recipients in some county with the type of service provided (scheme)??***"
      ]
    },
    {
      "cell_type": "code",
      "metadata": {
        "colab": {
          "base_uri": "https://localhost:8080/",
          "height": 265
        },
        "id": "lFtRTuSb28Ef",
        "outputId": "d3dc74b6-e6fd-4e1a-a094-c5673f92fd59"
      },
      "source": [
        "plt.scatter(data_county.recipients,data_county.scheme_description);   \n",
        "    ## so soory there's no relationship"
      ],
      "execution_count": 98,
      "outputs": [
        {
          "output_type": "display_data",
          "data": {
            "image/png": "[encoded data removed]",
            "text/plain": [
              "<Figure size 432x288 with 1 Axes>"
            ]
          },
          "metadata": {
            "needs_background": "light"
          }
        }
      ]
    },
    {
      "cell_type": "markdown",
      "metadata": {
        "id": "v9wzyEmsPty5"
      },
      "source": [
        "_________________________________________________________________________________"
      ]
    },
    {
      "cell_type": "markdown",
      "metadata": {
        "id": "oHwdj_zu3QK4"
      },
      "source": [
        "***3. Is the number of recipients increasing or decreasing over the years?***"
      ]
    },
    {
      "cell_type": "code",
      "metadata": {
        "id": "qBJQWVn5Eu41"
      },
      "source": [
        "data_county.period=data_county.period.str.replace('Q','')  ## here we should transfer data type in column \"period\" from string to int\n",
        "data_county.period=data_county.period.astype('int')         ## this step very important to apply  next code line"
      ],
      "execution_count": 99,
      "outputs": []
    },
    {
      "cell_type": "code",
      "metadata": {
        "colab": {
          "base_uri": "https://localhost:8080/",
          "height": 204
        },
        "id": "FQ32h29iKyfi",
        "outputId": "42e58526-6754-463e-dec2-a660a6b024af"
      },
      "source": [
        "data_county.head()"
      ],
      "execution_count": 104,
      "outputs": [
        {
          "output_type": "execute_result",
          "data": {
            "text/html": [
              "<div>\n",
              "<style scoped>\n",
              "    .dataframe tbody tr th:only-of-type {\n",
              "        vertical-align: middle;\n",
              "    }\n",
              "\n",
              "    .dataframe tbody tr th {\n",
              "        vertical-align: top;\n",
              "    }\n",
              "\n",
              "    .dataframe thead th {\n",
              "        text-align: right;\n",
              "    }\n",
              "</style>\n",
              "<table border=\"1\" class=\"dataframe\">\n",
              "  <thead>\n",
              "    <tr style=\"text-align: right;\">\n",
              "      <th></th>\n",
              "      <th>period</th>\n",
              "      <th>programme</th>\n",
              "      <th>scheme</th>\n",
              "      <th>scheme_description</th>\n",
              "      <th>county_code</th>\n",
              "      <th>county</th>\n",
              "      <th>recipients</th>\n",
              "    </tr>\n",
              "  </thead>\n",
              "  <tbody>\n",
              "    <tr>\n",
              "      <th>0</th>\n",
              "      <td>20141</td>\n",
              "      <td>Children</td>\n",
              "      <td>CB</td>\n",
              "      <td>Child Benefit</td>\n",
              "      <td>CE</td>\n",
              "      <td>Clare</td>\n",
              "      <td>15958</td>\n",
              "    </tr>\n",
              "    <tr>\n",
              "      <th>1</th>\n",
              "      <td>20141</td>\n",
              "      <td>Children</td>\n",
              "      <td>FIS</td>\n",
              "      <td>Family Income Supplement</td>\n",
              "      <td>CE</td>\n",
              "      <td>Clare</td>\n",
              "      <td>1170</td>\n",
              "    </tr>\n",
              "    <tr>\n",
              "      <th>2</th>\n",
              "      <td>20141</td>\n",
              "      <td>Children</td>\n",
              "      <td>CB</td>\n",
              "      <td>Child Benefit</td>\n",
              "      <td>CK</td>\n",
              "      <td>Cork</td>\n",
              "      <td>69033</td>\n",
              "    </tr>\n",
              "    <tr>\n",
              "      <th>3</th>\n",
              "      <td>20141</td>\n",
              "      <td>Children</td>\n",
              "      <td>FIS</td>\n",
              "      <td>Family Income Supplement</td>\n",
              "      <td>CK</td>\n",
              "      <td>Cork</td>\n",
              "      <td>5089</td>\n",
              "    </tr>\n",
              "    <tr>\n",
              "      <th>4</th>\n",
              "      <td>20141</td>\n",
              "      <td>Children</td>\n",
              "      <td>CB</td>\n",
              "      <td>Child Benefit</td>\n",
              "      <td>CN</td>\n",
              "      <td>Cavan</td>\n",
              "      <td>10349</td>\n",
              "    </tr>\n",
              "  </tbody>\n",
              "</table>\n",
              "</div>"
            ],
            "text/plain": [
              "   period programme scheme  ... county_code county recipients\n",
              "0   20141  Children     CB  ...          CE  Clare      15958\n",
              "1   20141  Children    FIS  ...          CE  Clare       1170\n",
              "2   20141  Children     CB  ...          CK   Cork      69033\n",
              "3   20141  Children    FIS  ...          CK   Cork       5089\n",
              "4   20141  Children     CB  ...          CN  Cavan      10349\n",
              "\n",
              "[5 rows x 7 columns]"
            ]
          },
          "metadata": {},
          "execution_count": 104
        }
      ]
    },
    {
      "cell_type": "code",
      "metadata": {
        "colab": {
          "base_uri": "https://localhost:8080/",
          "height": 296
        },
        "id": "skhAVp1wDeEQ",
        "outputId": "63de9fd5-d3ed-4bc9-fabd-39dc4c10dca4"
      },
      "source": [
        "data_county.plot(x='period', y='recipients', kind='line') \n",
        "plt.show()\n",
        "print(\"as can see there are a little alteration in a year 2020Q2\")"
      ],
      "execution_count": 90,
      "outputs": [
        {
          "output_type": "display_data",
          "data": {
            "image/png": "[encoded data removed]",
            "text/plain": [
              "<Figure size 432x288 with 1 Axes>"
            ]
          },
          "metadata": {
            "needs_background": "light"
          }
        },
        {
          "output_type": "stream",
          "name": "stdout",
          "text": [
            "as can see there are a little change in year 2020Q1\n"
          ]
        }
      ]
    },
    {
      "cell_type": "code",
      "metadata": {
        "colab": {
          "base_uri": "https://localhost:8080/",
          "height": 35
        },
        "id": "Ysc_Ts53VtIu",
        "outputId": "9edcbb9d-b78b-4e68-f5e4-ec497b7c2716"
      },
      "source": [
        "data_county['scheme_description'].max()"
      ],
      "execution_count": 106,
      "outputs": [
        {
          "output_type": "execute_result",
          "data": {
            "application/vnd.google.colaboratory.intrinsic+json": {
              "type": "string"
            },
            "text/plain": [
              "'Working Family Payment'"
            ]
          },
          "metadata": {},
          "execution_count": 106
        }
      ]
    },
    {
      "cell_type": "markdown",
      "metadata": {
        "id": "I5Cp_OWB7uCy"
      },
      "source": [
        "____________________________________________________________"
      ]
    },
    {
      "cell_type": "markdown",
      "metadata": {
        "id": "yZc8iOBm7jRY"
      },
      "source": [
        "***4. Is the service make differences over the year?***"
      ]
    },
    {
      "cell_type": "code",
      "metadata": {
        "colab": {
          "base_uri": "https://localhost:8080/",
          "height": 450
        },
        "id": "n6qO-vTUURcC",
        "outputId": "acf6fe1a-2e59-4de3-9de5-a97a3e983932"
      },
      "source": [
        "data_county_grouped = data_county.groupby(['period', 'county']).mean().sort_values(\n",
        "    'recipients', ascending=True)\n",
        "data_county_grouped"
      ],
      "execution_count": 105,
      "outputs": [
        {
          "output_type": "execute_result",
          "data": {
            "text/html": [
              "<div>\n",
              "<style scoped>\n",
              "    .dataframe tbody tr th:only-of-type {\n",
              "        vertical-align: middle;\n",
              "    }\n",
              "\n",
              "    .dataframe tbody tr th {\n",
              "        vertical-align: top;\n",
              "    }\n",
              "\n",
              "    .dataframe thead th {\n",
              "        text-align: right;\n",
              "    }\n",
              "</style>\n",
              "<table border=\"1\" class=\"dataframe\">\n",
              "  <thead>\n",
              "    <tr style=\"text-align: right;\">\n",
              "      <th></th>\n",
              "      <th></th>\n",
              "      <th>recipients</th>\n",
              "    </tr>\n",
              "    <tr>\n",
              "      <th>period</th>\n",
              "      <th>county</th>\n",
              "      <th></th>\n",
              "    </tr>\n",
              "  </thead>\n",
              "  <tbody>\n",
              "    <tr>\n",
              "      <th>20194</th>\n",
              "      <th>Leitrim</th>\n",
              "      <td>805.666667</td>\n",
              "    </tr>\n",
              "    <tr>\n",
              "      <th>20183</th>\n",
              "      <th>Leitrim</th>\n",
              "      <td>837.050000</td>\n",
              "    </tr>\n",
              "    <tr>\n",
              "      <th>20184</th>\n",
              "      <th>Leitrim</th>\n",
              "      <td>838.450000</td>\n",
              "    </tr>\n",
              "    <tr>\n",
              "      <th>20174</th>\n",
              "      <th>Leitrim</th>\n",
              "      <td>838.950000</td>\n",
              "    </tr>\n",
              "    <tr>\n",
              "      <th>20182</th>\n",
              "      <th>Leitrim</th>\n",
              "      <td>839.500000</td>\n",
              "    </tr>\n",
              "    <tr>\n",
              "      <th>...</th>\n",
              "      <th>...</th>\n",
              "      <td>...</td>\n",
              "    </tr>\n",
              "    <tr>\n",
              "      <th>20203</th>\n",
              "      <th>Dublin</th>\n",
              "      <td>33112.772727</td>\n",
              "    </tr>\n",
              "    <tr>\n",
              "      <th>20212</th>\n",
              "      <th>Dublin</th>\n",
              "      <td>33887.318182</td>\n",
              "    </tr>\n",
              "    <tr>\n",
              "      <th>20204</th>\n",
              "      <th>Dublin</th>\n",
              "      <td>33950.909091</td>\n",
              "    </tr>\n",
              "    <tr>\n",
              "      <th>20211</th>\n",
              "      <th>Dublin</th>\n",
              "      <td>34984.454545</td>\n",
              "    </tr>\n",
              "    <tr>\n",
              "      <th>20202</th>\n",
              "      <th>Dublin</th>\n",
              "      <td>36105.454545</td>\n",
              "    </tr>\n",
              "  </tbody>\n",
              "</table>\n",
              "<p>837 rows × 1 columns</p>\n",
              "</div>"
            ],
            "text/plain": [
              "                  recipients\n",
              "period county               \n",
              "20194  Leitrim    805.666667\n",
              "20183  Leitrim    837.050000\n",
              "20184  Leitrim    838.450000\n",
              "20174  Leitrim    838.950000\n",
              "20182  Leitrim    839.500000\n",
              "...                      ...\n",
              "20203  Dublin   33112.772727\n",
              "20212  Dublin   33887.318182\n",
              "20204  Dublin   33950.909091\n",
              "20211  Dublin   34984.454545\n",
              "20202  Dublin   36105.454545\n",
              "\n",
              "[837 rows x 1 columns]"
            ]
          },
          "metadata": {},
          "execution_count": 105
        }
      ]
    }
  ]
}