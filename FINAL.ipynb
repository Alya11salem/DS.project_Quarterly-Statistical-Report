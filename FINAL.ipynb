{
  "nbformat": 4,
  "nbformat_minor": 0,
  "metadata": {
    "colab": {
      "name": "code_EDA (2).ipynb",
      "provenance": []
    },
    "kernelspec": {
      "name": "python3",
      "display_name": "Python 3"
    },
    "language_info": {
      "name": "python"
    }
  },
  "cells": [
    {
      "cell_type": "markdown",
      "metadata": {
        "id": "J1soKYJMmu6N"
      },
      "source": [
        "##  Welcom!!\n",
        "\n"
      ]
    },
    {
      "cell_type": "code",
      "metadata": {
        "colab": {
          "base_uri": "https://localhost:8080/"
        },
        "id": "b98DnLp3m7s7",
        "outputId": "a0d21165-84a6-49b6-c088-71af2b0d7abe"
      },
      "source": [
        "if (brain!= 'fullenergy'):  # code is like humor when you have to explain it it's BAD\n",
        " print (\"orderCoffee\")\n",
        "else:\n",
        " print (\"KeepCoding\")"
      ],
      "execution_count": null,
      "outputs": [
        {
          "output_type": "stream",
          "name": "stdout",
          "text": [
            "orderCoffee\n"
          ]
        }
      ]
    },
    {
      "cell_type": "markdown",
      "metadata": {
        "id": "iyuCnLOgqpE5"
      },
      "source": [
        "#                           😀\n",
        "\n",
        "\n",
        "\n",
        "\n",
        "\n",
        "\n",
        "\n",
        "\n",
        "\n",
        "\n"
      ]
    },
    {
      "cell_type": "markdown",
      "metadata": {
        "id": "D0pfhsRdwPAB"
      },
      "source": [
        "# ***Steps of the EDA Process:***"
      ]
    },
    {
      "cell_type": "markdown",
      "metadata": {
        "id": "N2AwXCQrFZV8"
      },
      "source": [
        "**1. Load data into pandas, NumPy or another similar tool and summarize the data.**\n"
      ]
    },
    {
      "cell_type": "code",
      "metadata": {
        "id": "LDy-PEmNrDHA"
      },
      "source": [
        "import numpy as np\n",
        "import pandas as pd\n",
        "import matplotlib.pyplot as plt\n",
        "import seaborn as sns"
      ],
      "execution_count": 1,
      "outputs": []
    },
    {
      "cell_type": "code",
      "metadata": {
        "id": "fR3wActWr4CK"
      },
      "source": [
        "data_county = pd.read_csv(\"county.csv\")\n",
        "data_county"
      ],
      "execution_count": null,
      "outputs": []
    },
    {
      "cell_type": "markdown",
      "metadata": {
        "id": "dmBRA2sGrOQp"
      },
      "source": [
        "______________________________________________________________________________"
      ]
    },
    {
      "cell_type": "markdown",
      "metadata": {
        "id": "cATAedyEOB9S"
      },
      "source": [
        "**2.Use tables, text and visualizations and telling the story that relates to the data**"
      ]
    },
    {
      "cell_type": "markdown",
      "metadata": {
        "id": "oRACcJvUW5fE"
      },
      "source": [
        "Here, the data is leveraged to calculate the number of programme recipients of  by thier county. Since one of the goals of this case study is Specify the most large number and the county by year, therefore it is important to quantify\n",
        "This data has been developed to support the "
      ]
    },
    {
      "cell_type": "code",
      "metadata": {
        "id": "_BasyQ9VmNxL"
      },
      "source": [
        "data_county.describe(include='all')\n"
      ],
      "execution_count": null,
      "outputs": []
    },
    {
      "cell_type": "code",
      "metadata": {
        "id": "Y30y8CMy0Vos"
      },
      "source": [
        "data_county.info()"
      ],
      "execution_count": null,
      "outputs": []
    },
    {
      "cell_type": "code",
      "metadata": {
        "id": "DcldI_ZDxlHe"
      },
      "source": [
        "data_county.head()"
      ],
      "execution_count": null,
      "outputs": []
    },
    {
      "cell_type": "code",
      "metadata": {
        "id": "jpDZ3QmNcqaV",
        "colab": {
          "base_uri": "https://localhost:8080/"
        },
        "outputId": "df66db25-68d3-4113-ec22-94bb1aff1124"
      },
      "source": [
        "data_county.shape  # \n"
      ],
      "execution_count": 7,
      "outputs": [
        {
          "output_type": "execute_result",
          "data": {
            "text/plain": [
              "(16736, 9)"
            ]
          },
          "metadata": {},
          "execution_count": 7
        }
      ]
    },
    {
      "cell_type": "code",
      "metadata": {
        "id": "CvbVhPiU9Qau"
      },
      "source": [
        "data_county.sample(5, random_state=4)"
      ],
      "execution_count": null,
      "outputs": []
    },
    {
      "cell_type": "code",
      "metadata": {
        "id": "nRwxRhIywxiw"
      },
      "source": [
        "data_county.columns    ## here we show columns in Dataset"
      ],
      "execution_count": null,
      "outputs": []
    },
    {
      "cell_type": "code",
      "metadata": {
        "id": "gY9x0hjoMTO8"
      },
      "source": [
        "data_county.groupby(['county']).sum()"
      ],
      "execution_count": null,
      "outputs": []
    },
    {
      "cell_type": "markdown",
      "metadata": {
        "id": "683Yn1FsrF39"
      },
      "source": [
        "_________________________________________________________________________________"
      ]
    },
    {
      "cell_type": "markdown",
      "metadata": {
        "id": "SxEZ8aODTO-0"
      },
      "source": [
        "**3. Identify a strategy to deal with missing values:**"
      ]
    },
    {
      "cell_type": "markdown",
      "metadata": {
        "id": "h6WVgccLauX-"
      },
      "source": [
        "It is during the Exploratory Data Analysis (EDA) process that data integrity issues are identified sometimes. After extracting data it is important to include checks for quality assurance even on the first pass through the project workflow. Quality assurance step must implement checks for duplicity and missing values."
      ]
    },
    {
      "cell_type": "code",
      "metadata": {
        "id": "BWRlxVuYtYAm"
      },
      "source": [
        "data_county.isnull().sum()\n",
        "##  I'm lucky one, my data clean "
      ],
      "execution_count": null,
      "outputs": []
    },
    {
      "cell_type": "code",
      "metadata": {
        "id": "olxfTJo4vr2b"
      },
      "source": [
        "sum(data_county.duplicated()) \n",
        "## check if there a duplicated value "
      ],
      "execution_count": null,
      "outputs": []
    },
    {
      "cell_type": "code",
      "metadata": {
        "id": "rQ1UWBRo8kKo"
      },
      "source": [
        "data_county.drop(['UGI'],axis=1,inplace=True)\n",
        " ## Remove \"UGI\" column  "
      ],
      "execution_count": null,
      "outputs": []
    },
    {
      "cell_type": "code",
      "metadata": {
        "id": "LeeAPgma9lXe"
      },
      "source": [
        "data_county.drop(['basis'],axis=1,inplace=True)\n",
        "## Remove \"basis\" column"
      ],
      "execution_count": null,
      "outputs": []
    },
    {
      "cell_type": "code",
      "metadata": {
        "id": "CazRNoAQpBtv"
      },
      "source": [
        "data_county.boxplot()"
      ],
      "execution_count": null,
      "outputs": []
    },
    {
      "cell_type": "markdown",
      "metadata": {
        "id": "a5sL02nrPiYu"
      },
      "source": [
        "________________________________________________________________________________"
      ]
    },
    {
      "cell_type": "markdown",
      "metadata": {
        "id": "vt0kE2oNuSvC"
      },
      "source": [
        "**4. Investigate the data and Graphical representation\n",
        " with visualizations and hypothesis testing**"
      ]
    },
    {
      "cell_type": "code",
      "metadata": {
        "id": "LKsYAor7ulYn"
      },
      "source": [
        "corr = data_county.corr()\n",
        "sns.heatmap(corr, annot=True, square=True)\n",
        "plt.yticks(rotation=1)\n",
        "plt.show()"
      ],
      "execution_count": null,
      "outputs": []
    },
    {
      "cell_type": "code",
      "metadata": {
        "colab": {
          "base_uri": "https://localhost:8080/",
          "height": 351
        },
        "id": "NyNBCXX_uyN9",
        "outputId": "67d53b6e-f539-4db1-c4ca-15ee31dd02a9"
      },
      "source": [
        "sns.distplot(data_county['recipients'])"
      ],
      "execution_count": 23,
      "outputs": [
        {
          "output_type": "stream",
          "name": "stderr",
          "text": [
            "/usr/local/lib/python3.7/dist-packages/seaborn/distributions.py:2619: FutureWarning: `distplot` is a deprecated function and will be removed in a future version. Please adapt your code to use either `displot` (a figure-level function with similar flexibility) or `histplot` (an axes-level function for histograms).\n",
            "  warnings.warn(msg, FutureWarning)\n"
          ]
        },
        {
          "output_type": "execute_result",
          "data": {
            "text/plain": [
              "<matplotlib.axes._subplots.AxesSubplot at 0x7fb1c179b050>"
            ]
          },
          "metadata": {},
          "execution_count": 23
        },
        {
          "output_type": "display_data",
          "data": {
            "image/png": "[encoded data removed]",
            "text/plain": [
              "<Figure size 432x288 with 1 Axes>"
            ]
          },
          "metadata": {
            "needs_background": "light"
          }
        }
      ]
    },
    {
      "cell_type": "markdown",
      "metadata": {
        "id": "9TB-o_HeSAed"
      },
      "source": [
        "__________________________________________________________________________________"
      ]
    },
    {
      "cell_type": "markdown",
      "metadata": {
        "id": "jQZY4-5kRrTA"
      },
      "source": [
        " ***We are close to achieving our goals***🥅"
      ]
    },
    {
      "cell_type": "markdown",
      "metadata": {
        "id": "Lf48BntS0lue"
      },
      "source": [
        "***1. Which county have the largest number of recipients?***\n",
        "\n",
        "\n",
        "\n"
      ]
    },
    {
      "cell_type": "code",
      "metadata": {
        "colab": {
          "base_uri": "https://localhost:8080/"
        },
        "id": "-4sUqgIPxjcJ",
        "outputId": "d49fb414-07fc-445a-9a4a-34b55fe9c99f"
      },
      "source": [
        "data_county['recipients'].max()\n",
        "## show the largest number"
      ],
      "execution_count": 38,
      "outputs": [
        {
          "output_type": "execute_result",
          "data": {
            "text/plain": [
              "214372"
            ]
          },
          "metadata": {},
          "execution_count": 38
        }
      ]
    },
    {
      "cell_type": "code",
      "metadata": {
        "colab": {
          "base_uri": "https://localhost:8080/",
          "height": 98
        },
        "id": "uFXbC_P7xw41",
        "outputId": "81dc2875-3d11-4840-976c-46e7f517567c"
      },
      "source": [
        "data_county[data_county['recipients']==214372]\n",
        "## show and select all related details of largest number (max: value)"
      ],
      "execution_count": 37,
      "outputs": [
        {
          "output_type": "execute_result",
          "data": {
            "text/html": [
              "<div>\n",
              "<style scoped>\n",
              "    .dataframe tbody tr th:only-of-type {\n",
              "        vertical-align: middle;\n",
              "    }\n",
              "\n",
              "    .dataframe tbody tr th {\n",
              "        vertical-align: top;\n",
              "    }\n",
              "\n",
              "    .dataframe thead th {\n",
              "        text-align: right;\n",
              "    }\n",
              "</style>\n",
              "<table border=\"1\" class=\"dataframe\">\n",
              "  <thead>\n",
              "    <tr style=\"text-align: right;\">\n",
              "      <th></th>\n",
              "      <th>period</th>\n",
              "      <th>programme</th>\n",
              "      <th>scheme</th>\n",
              "      <th>scheme_description</th>\n",
              "      <th>basis</th>\n",
              "      <th>UGI</th>\n",
              "      <th>county_code</th>\n",
              "      <th>county</th>\n",
              "      <th>recipients</th>\n",
              "    </tr>\n",
              "  </thead>\n",
              "  <tbody>\n",
              "    <tr>\n",
              "      <th>13594</th>\n",
              "      <td>20202</td>\n",
              "      <td>Working Age Income Supports</td>\n",
              "      <td>PUP</td>\n",
              "      <td>Pandemic Unemployment Claim</td>\n",
              "      <td>Social Insurance</td>\n",
              "      <td>http://data.geohive.ie/resource/county/2ae1962...</td>\n",
              "      <td>DN</td>\n",
              "      <td>Dublin</td>\n",
              "      <td>214372</td>\n",
              "    </tr>\n",
              "  </tbody>\n",
              "</table>\n",
              "</div>"
            ],
            "text/plain": [
              "       period                    programme  ...  county recipients\n",
              "13594   20202  Working Age Income Supports  ...  Dublin     214372\n",
              "\n",
              "[1 rows x 9 columns]"
            ]
          },
          "metadata": {},
          "execution_count": 37
        }
      ]
    },
    {
      "cell_type": "code",
      "metadata": {
        "colab": {
          "base_uri": "https://localhost:8080/"
        },
        "id": "hEO0W9Zy07Cu",
        "outputId": "7d234e8b-30ab-4a7f-d372-5e6fcddf5572"
      },
      "source": [
        "data_county[['period', 'scheme_description', 'county', 'recipients']].max()   \n",
        "### Here show the largest number of recipients over years."
      ],
      "execution_count": 35,
      "outputs": [
        {
          "output_type": "execute_result",
          "data": {
            "text/plain": [
              "period                                 20213\n",
              "scheme_description    Working Family Payment\n",
              "county                               Wicklow\n",
              "recipients                            214372\n",
              "dtype: object"
            ]
          },
          "metadata": {},
          "execution_count": 35
        }
      ]
    },
    {
      "cell_type": "code",
      "metadata": {
        "id": "sEaHODlp2F8J"
      },
      "source": [
        "data_county['recipients'].nlargest(10)\n",
        "## show the 101th largest number"
      ],
      "execution_count": null,
      "outputs": []
    },
    {
      "cell_type": "markdown",
      "metadata": {
        "id": "PH1nSukJPooo"
      },
      "source": [
        "_________________________________________________________________________________"
      ]
    },
    {
      "cell_type": "markdown",
      "metadata": {
        "id": "greXuuOL2iII"
      },
      "source": [
        "***2.Is there any relationship between the total number of recipients in some county with the type of service provided (scheme)??***"
      ]
    },
    {
      "cell_type": "code",
      "metadata": {
        "id": "lFtRTuSb28Ef"
      },
      "source": [
        "plt.scatter(data_county.recipients,data_county.scheme_description);   \n",
        "    ## so soory there's no relationship"
      ],
      "execution_count": null,
      "outputs": []
    },
    {
      "cell_type": "markdown",
      "metadata": {
        "id": "v9wzyEmsPty5"
      },
      "source": [
        "_________________________________________________________________________________"
      ]
    },
    {
      "cell_type": "markdown",
      "metadata": {
        "id": "oHwdj_zu3QK4"
      },
      "source": [
        "***3. Is the number of recipients increasing or decreasing over the years?***"
      ]
    },
    {
      "cell_type": "code",
      "metadata": {
        "id": "qBJQWVn5Eu41"
      },
      "source": [
        "data_county.period=data_county.period.str.replace('Q','')  ## here we should transfer data type in column \"period\" from string to int\n",
        "data_county.period=data_county.period.astype('int')         ## this step very important to apply  next code line"
      ],
      "execution_count": 33,
      "outputs": []
    },
    {
      "cell_type": "code",
      "metadata": {
        "id": "FQ32h29iKyfi"
      },
      "source": [
        "data_county.head()"
      ],
      "execution_count": null,
      "outputs": []
    },
    {
      "cell_type": "code",
      "metadata": {
        "colab": {
          "base_uri": "https://localhost:8080/",
          "height": 279
        },
        "id": "skhAVp1wDeEQ",
        "outputId": "bec584c0-bbfd-4dab-9167-2ddda499c6eb"
      },
      "source": [
        "data_county.plot(x='period', y='recipients', kind='line') \n",
        "plt.show()"
      ],
      "execution_count": null,
      "outputs": [
        {
          "output_type": "display_data",
          "data": {
            "image/png": "[encoded data removed]",
            "text/plain": [
              "<Figure size 432x288 with 1 Axes>"
            ]
          },
          "metadata": {
            "needs_background": "light"
          }
        }
      ]
    },
    {
      "cell_type": "markdown",
      "metadata": {
        "id": "BE2Bk2Vy_mWs"
      },
      "source": [
        " .. As can see there are a little alteration in a year 2020Q2, accoroding to the resulte in Q1 the scheme_description was  Pandemic Unemployment Claim"
      ]
    },
    {
      "cell_type": "code",
      "metadata": {
        "colab": {
          "base_uri": "https://localhost:8080/",
          "height": 35
        },
        "id": "Ysc_Ts53VtIu",
        "outputId": "28463c8d-e5df-4ad0-bcda-4b2532188499"
      },
      "source": [
        "data_county['programme'].max()"
      ],
      "execution_count": 34,
      "outputs": [
        {
          "output_type": "execute_result",
          "data": {
            "application/vnd.google.colaboratory.intrinsic+json": {
              "type": "string"
            },
            "text/plain": [
              "'Working Age Income Supports'"
            ]
          },
          "metadata": {},
          "execution_count": 34
        }
      ]
    },
    {
      "cell_type": "markdown",
      "metadata": {
        "id": "I5Cp_OWB7uCy"
      },
      "source": [
        "____________________________________________________________"
      ]
    },
    {
      "cell_type": "markdown",
      "metadata": {
        "id": "yZc8iOBm7jRY"
      },
      "source": [
        "***4. Is the service make differences over the year?***"
      ]
    },
    {
      "cell_type": "code",
      "metadata": {
        "id": "n6qO-vTUURcC"
      },
      "source": [
        "data_county_grouped = data_county.groupby(['period', 'county']).mean().sort_values(\n",
        "    'recipients', ascending=True)\n",
        "data_county_grouped"
      ],
      "execution_count": null,
      "outputs": []
    },
    {
      "cell_type": "code",
      "metadata": {
        "colab": {
          "base_uri": "https://localhost:8080/",
          "height": 296
        },
        "id": "7Kif0TUCHBZ-",
        "outputId": "3b7ae7c7-c613-4150-d27e-b5318c744c46"
      },
      "source": [
        "data_county[['period', 'recipients']][data_county['recipients']> 22000].groupby('period').count().plot()"
      ],
      "execution_count": null,
      "outputs": [
        {
          "output_type": "execute_result",
          "data": {
            "text/plain": [
              "<matplotlib.axes._subplots.AxesSubplot at 0x7fa7d16c9150>"
            ]
          },
          "metadata": {},
          "execution_count": 98
        },
        {
          "output_type": "display_data",
          "data": {
            "image/png": "[encoded data removed]",
            "text/plain": [
              "<Figure size 432x288 with 1 Axes>"
            ]
          },
          "metadata": {
            "needs_background": "light"
          }
        }
      ]
    },
    {
      "cell_type": "markdown",
      "metadata": {
        "id": "F5e5wxS5HOmQ"
      },
      "source": [
        "As can see the number of recipients decreases over time, In our case of study the decreasing is a positve mark for   Except during the COVID-19 pandemic. "
      ]
    },
    {
      "cell_type": "code",
      "metadata": {
        "colab": {
          "base_uri": "https://localhost:8080/",
          "height": 296
        },
        "id": "Opvrj8TnD3-i",
        "outputId": "72a98f3f-cb67-4895-e54c-2a684f5c7531"
      },
      "source": [
        "data_county[['county', 'recipients']][data_county['recipients']> 22000].groupby('county').count().plot()"
      ],
      "execution_count": null,
      "outputs": [
        {
          "output_type": "execute_result",
          "data": {
            "text/plain": [
              "<matplotlib.axes._subplots.AxesSubplot at 0x7fa7d17ab310>"
            ]
          },
          "metadata": {},
          "execution_count": 97
        },
        {
          "output_type": "display_data",
          "data": {
            "image/png": "[encoded data removed]",
            "text/plain": [
              "<Figure size 432x288 with 1 Axes>"
            ]
          },
          "metadata": {
            "needs_background": "light"
          }
        }
      ]
    },
    {
      "cell_type": "markdown",
      "metadata": {
        "id": "ReuLM6f6JH6q"
      },
      "source": [
        ".. As a result of the previous question, it became clear that Dublin County is the most affected area by the pandemic, as the number of recipients increased in the second quarter of the year 2020. "
      ]
    }
  ]
}